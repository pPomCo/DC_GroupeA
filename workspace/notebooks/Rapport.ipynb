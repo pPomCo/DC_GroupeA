{
 "cells": [
  {
   "cell_type": "markdown",
   "metadata": {},
   "source": [
    "# Réseaux de neurones LSTM appliqué à la prédiction du turfu de NeoCampus\n",
    "\n",
    "\n",
    "https://icml.cc/Conferences/2002/craft.html\n",
    "Petit résumé :\n",
    " - Describe the representation and organization of the system's knowledge, along with the representation of training data : un graphique du model (keras.utils.plot_model), un head All.csv, un head neolite.csv, un plot\n",
    " - Evaluate the approach to learning, avoiding unsubstantiated or rhetorical claims. If stating that one approach is better than others, include evidence or at least careful arguments to support these claims.\n",
    " - Experiments that systematically vary external resources, such as the number of training cases available for learning, can also contribute important insights into an algorithm's behavior : plot la perf sur le dev set en fonction de $|train set|$\n",
    " - Make sure you label all distinct components of each figure : label des axes, unité s'il y en a une, label des plots, légende et titre\n",
    " "
   ]
  },
  {
   "cell_type": "markdown",
   "metadata": {},
   "source": [
    " \n",
    "## Résumé\n",
    "\n",
    "Nous appliquons un réseau de neurones avec couche LSTM à la prédiction des valeurs futures des capteurs disséminés dans quelques salles du campus de l'UPS, à partir de séries temporelles des valeurs de ces mêmes capteurs. La bibliothèque keras (tensorflow backend) est utilisée."
   ]
  },
  {
   "cell_type": "markdown",
   "metadata": {},
   "source": [
    "## Introduction\n",
    "\n",
    "Dans le cadre du M1 DC, nous avons accès aux données des salles équipées de capteurs NeoCampus, "
   ]
  },
  {
   "cell_type": "markdown",
   "metadata": {},
   "source": [
    "## Données\n",
    "\n",
    "\n",
    "### Prétraitement\n",
    "\n",
    "#### Données brutes\n",
    "\n",
    "Des capteurs de quatre types (co2, luminosité, humidité et température) sont disposés sur six ilots. Nous disposons des valeurs enregistrées à intervalles variables (entre une seconde et une minute selon le capteur).\n",
    "\n",
    "|type|room|value|date|unit|ilot|\n",
    "|---|---|---|---|---|---|\n",
    "|temperature|u4/302/temperature/ilot1|22.93|2017-09-11T12:53:14.745366|celsius|ilot1|\n",
    "|temperature|u4/302/temperature/ilot2|24.16|2017-09-11T12:53:14.767362|celsius|ilot2|\n",
    "|co2|u4/302/co2/ilot1|357|2017-09-11T12:53:14.794131|ppm|ilot1|\n",
    "|temperature|u4/302/temperature/ilot3|24.36|2017-09-11T12:53:14.797038|celsius|ilot3|\n",
    "|co2|u4/302/co2/ilot2|361|2017-09-11T12:53:14.818348|ppm|ilot2|\n",
    "\n",
    "#### Prétraitement - phase 1\n",
    "\n",
    "Les valeurs sont sélectionnées par type (ici la luminosité), agrégées par moyenne sur un interval donné (ici 15 minutes), et associées à leur valeur de confort\n",
    "\n",
    "|timestamp|lum|confort|\n",
    "|---|---|---|\n",
    "|1254272|839.35|5|\n",
    "|1254273|867.5833333333334|5|\n",
    "|1254274|791.0666666666667|5|\n",
    "|1254275|466.53333333333336|2|\n",
    "|1254276|698.5932203389831|5|\n",
    "\n",
    "#### Prétraitement - phase 2\n",
    "\n",
    "Les valeurs sont regroupées en séries temporelles.\n",
    "Soient :\n",
    "\n",
    "  - $v_i$ la valeur d'un capteur d'un type donné à l'instant $i$\n",
    "  - $w$ la taille de la fenêtre\n",
    "  - $k$ l'avance (on prédit $k$ instants après)\n",
    "\n",
    "Nous formons un vecteur $(v_1, v_2, ..., v_w)$ que nous étiquetons avec la valeur moyenne de la $k$-ième prochaine fenêtre $\\sum_{i=1}^{k}{v_{w k+i}} \\over w$ :\n",
    "\n",
    "\n",
    "\n",
    "  \n",
    "\n",
    "\n",
    "Données brutes, prétraitement, visualisations/exploration"
   ]
  },
  {
   "cell_type": "markdown",
   "metadata": {},
   "source": [
    "## Modèle\n",
    "\n",
    "Description du modèle, pourquoi (ou le pourquoi sera dans l'intro ?), processus d'entrainement"
   ]
  },
  {
   "cell_type": "markdown",
   "metadata": {},
   "source": [
    "## Résultats\n",
    "\n",
    "métriques et méthodes d'évaluation, plots des prédictions, recette du kebab vegan, description des résultats (la mse monte quand x, on a trouvé un optimal, ça marche bien à x point)"
   ]
  },
  {
   "cell_type": "markdown",
   "metadata": {},
   "source": [
    "## Analyse\n",
    "\n",
    "Des explications plus fines que ce qui est directement visible dans les résultats : ça marche bien parce que..., ça marche mal parce que \n",
    "\n",
    "Ce qu'on va essayer la prochaine fois (ou alors dans la conclusion si c'est court ?)"
   ]
  },
  {
   "cell_type": "markdown",
   "metadata": {},
   "source": [
    "## Conclusion\n",
    "\n",
    "Nous avons fait X, ça a donné Y mais aussi Z"
   ]
  }
 ],
 "metadata": {
  "kernelspec": {
   "display_name": "Python 3",
   "language": "python",
   "name": "python3"
  },
  "language_info": {
   "codemirror_mode": {
    "name": "ipython",
    "version": 3
   },
   "file_extension": ".py",
   "mimetype": "text/x-python",
   "name": "python",
   "nbconvert_exporter": "python",
   "pygments_lexer": "ipython3",
   "version": "3.7.1"
  }
 },
 "nbformat": 4,
 "nbformat_minor": 2
}

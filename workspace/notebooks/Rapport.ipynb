{
 "cells": [
  {
   "cell_type": "markdown",
   "metadata": {},
   "source": [
    "# Réseaux de neurones LSTM appliqué à la prédiction du turfu de NeoCampus\n",
    "\n",
    "\n",
    "https://icml.cc/Conferences/2002/craft.html\n",
    "Petit résumé :\n",
    " - Describe the representation and organization of the system's knowledge, along with the representation of training data : un graphique du model (keras.utils.plot_model), un head All.csv, un head neolite.csv, un plot\n",
    " - Evaluate the approach to learning, avoiding unsubstantiated or rhetorical claims. If stating that one approach is better than others, include evidence or at least careful arguments to support these claims.\n",
    " - Experiments that systematically vary external resources, such as the number of training cases available for learning, can also contribute important insights into an algorithm's behavior : plot la perf sur le dev set en fonction de $|train set|$\n",
    " - Make sure you label all distinct components of each figure : label des axes, unité s'il y en a une, label des plots, légende et titre\n",
    " "
   ]
  },
  {
   "cell_type": "markdown",
   "metadata": {},
   "source": [
    " \n",
    "## Résumé\n",
    "\n",
    "Nous appliquons un réseau de neurones avec couche LSTM à la prédiction des valeurs futures des capteurs disséminés dans quelques salles du campus de l'UPS, à partir de séries temporelles des valeurs de ces mêmes capteurs. La bibliothèque keras (tensorflow backend) est utilisée."
   ]
  },
  {
   "cell_type": "markdown",
   "metadata": {},
   "source": [
    "## Introduction\n",
    "\n",
    "Dans le cadre du M1 DC, nous avons accès aux données des salles équipées de capteurs NeoCampus, "
   ]
  },
  {
   "cell_type": "markdown",
   "metadata": {},
   "source": [
    "## Données\n",
    "\n",
    "Données brutes, prétraitement, visualisations/exploration"
   ]
  },
  {
   "cell_type": "markdown",
   "metadata": {},
   "source": [
    "## Modèle\n",
    "\n",
    "Description du modèle, pourquoi (ou le pourquoi sera dans l'intro ?), processus d'entrainement"
   ]
  },
  {
   "cell_type": "markdown",
   "metadata": {},
   "source": [
    "## Résultats\n",
    "\n",
    "métriques et méthodes d'évaluation, plots des prédictions, recette du kebab vegan, description des résultats (la mse monte quand x, on a trouvé un optimal, ça marche bien à x point)"
   ]
  },
  {
   "cell_type": "markdown",
   "metadata": {},
   "source": [
    "## Analyse\n",
    "\n",
    "Des explications plus fines que ce qui est directement visible dans les résultats : ça marche bien parce que..., ça marche mal parce que \n",
    "\n",
    "Ce qu'on va essayer la prochaine fois (ou alors dans la conclusion si c'est court ?)"
   ]
  },
  {
   "cell_type": "markdown",
   "metadata": {},
   "source": [
    "## Conclusion\n",
    "\n",
    "Nous avons fait X, ça a donné Y mais aussi Z"
   ]
  }
 ],
 "metadata": {
  "kernelspec": {
   "display_name": "Python 3",
   "language": "python",
   "name": "python3"
  },
  "language_info": {
   "codemirror_mode": {
    "name": "ipython",
    "version": 3
   },
   "file_extension": ".py",
   "mimetype": "text/x-python",
   "name": "python",
   "nbconvert_exporter": "python",
   "pygments_lexer": "ipython3",
   "version": "3.7.1"
  }
 },
 "nbformat": 4,
 "nbformat_minor": 2
}

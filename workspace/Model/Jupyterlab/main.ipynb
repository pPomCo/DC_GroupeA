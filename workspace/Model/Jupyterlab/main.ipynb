{
 "cells": [
  {
   "cell_type": "markdown",
   "metadata": {},
   "source": [
    "# Main"
   ]
  },
  {
   "cell_type": "markdown",
   "metadata": {},
   "source": [
    "### Imports"
   ]
  },
  {
   "cell_type": "code",
   "execution_count": 5,
   "metadata": {},
   "outputs": [],
   "source": [
    "import numpy as np\n",
    "from keras.models import load_model, Model"
   ]
  },
  {
   "cell_type": "markdown",
   "metadata": {},
   "source": [
    "### Current values"
   ]
  },
  {
   "cell_type": "code",
   "execution_count": 38,
   "metadata": {},
   "outputs": [],
   "source": [
    "# ceci est un test\n",
    "\n",
    "actual_temp = np.ndarray(30, dtype = \"float32\")\n",
    "actual_temp.fill(0.30) # (11.36, 40.0)\n",
    "\n",
    "actual_co2 = np.ndarray(30, dtype = \"float32\")\n",
    "actual_co2.fill(0.3) # (84, 1990)\n",
    "\n",
    "actual_lum = np.ndarray(90, dtype = \"float32\")\n",
    "actual_lum.fill(0.6) # (0, 1000)\n",
    "\n",
    "actual_hum = np.ndarray(30, dtype = \"float32\")\n",
    "actual_hum.fill(0.7) # (min, max) : (30,75)\n",
    "\n",
    "actual_features = [actual_co2, actual_hum, actual_lum, actual_temp]\n",
    "\n",
    "# actual_temp, actual_co2, actual_lum, actual_hum"
   ]
  },
  {
   "cell_type": "code",
   "execution_count": 24,
   "metadata": {},
   "outputs": [],
   "source": [
    "model_name_1 = \"models/model_ilot1.co2_10_1.h5\"\n",
    "model_name_2 = \"models/model_ilot1.temp_10_1.h5\"\n",
    "model_name_3 = \"models/model_ilot1.lum_30_1.h5\"\n",
    "model_name_4 = \"models/model_ilot1.hum_10_1.h5\""
   ]
  },
  {
   "cell_type": "code",
   "execution_count": 39,
   "metadata": {},
   "outputs": [],
   "source": [
    "model1 = load_model(model_name_1)\n",
    "Y_test_pred1 = model1.predict(actual_co2.reshape(3,10,1))\n",
    "\n",
    "model2 = load_model(model_name_2)\n",
    "Y_test_pred2 = model2.predict(actual_temp.reshape(3,10,1))\n",
    "\n",
    "model3 = load_model(model_name_3)\n",
    "Y_test_pred3 = model3.predict(actual_lum.reshape(3,30,1))\n",
    "\n",
    "model4 = load_model(model_name_4)\n",
    "Y_test_pred4 = model4.predict(actual_hum.reshape(3,10,1))"
   ]
  },
  {
   "cell_type": "code",
   "execution_count": 30,
   "metadata": {},
   "outputs": [
    {
     "data": {
      "text/plain": [
       "(array([[0.08869418],\n",
       "        [0.08869418],\n",
       "        [0.08869418]], dtype=float32), array([[0.3507897],\n",
       "        [0.3507897],\n",
       "        [0.3507897]], dtype=float32), array([[0.7173173],\n",
       "        [0.7173173],\n",
       "        [0.7173173]], dtype=float32), array([[0.4577512],\n",
       "        [0.4577512],\n",
       "        [0.4577512]], dtype=float32))"
      ]
     },
     "execution_count": 30,
     "metadata": {},
     "output_type": "execute_result"
    }
   ],
   "source": [
    "Y_test_pred1, Y_test_pred2, Y_test_pred3, Y_test_pred4"
   ]
  },
  {
   "cell_type": "markdown",
   "metadata": {},
   "source": [
    "# annotationUnique.py"
   ]
  },
  {
   "cell_type": "code",
   "execution_count": 26,
   "metadata": {},
   "outputs": [],
   "source": [
    "# Annotation d'une valeur de température selon les seuils définis\n",
    "def temperature(valeur):\n",
    "    if(valeur < 23.2 and valeur > 20.8):\n",
    "        return 5\n",
    "    elif(valeur < 24.5 and valeur > 19.5):\n",
    "        return 4\n",
    "    elif(valeur < 26 and valeur > 18):\n",
    "        return 3\n",
    "    elif(valeur < 27 and valeur > 17):\n",
    "        return 2\n",
    "    elif(valeur < 28 and valeur > 16):\n",
    "        return 1\n",
    "    else:\n",
    "        return 0\n",
    "\n",
    "# Annotation d'une valeur de luminosité selon les seuils définis\n",
    "def luminosite(valeur):\n",
    "    if(valeur > 600 and valeur < 900):\n",
    "        return 5\n",
    "    elif(valeur > 550 and valeur < 950):\n",
    "        return 4\n",
    "    elif(valeur > 500 and valeur < 1000):\n",
    "        return 3\n",
    "    elif(valeur > 400 and valeur < 1100):\n",
    "        return 2\n",
    "    elif(valeur > 200 and valeur < 1300):\n",
    "        return 1\n",
    "    else:\n",
    "        return 0\n",
    "\n",
    "# Annotation d'une valeur de co2 selon les seuils définis\n",
    "def co2(valeur):\n",
    "    if(valeur<400):\n",
    "        return 5\n",
    "    elif(valeur<600):\n",
    "        return 4\n",
    "    elif(valeur<800):\n",
    "        return 3\n",
    "    elif(valeur<1000):\n",
    "        return 2\n",
    "    elif(valeur<1200):\n",
    "        return 1\n",
    "    else:\n",
    "        return 0\n",
    "\n",
    "# Annotation d'une valeur d'humidité selon les seuils définis\n",
    "def humidite(valeur):\n",
    "    if(valeur < 55 and valeur > 45):\n",
    "        return 5\n",
    "    elif(valeur < 58 and valeur > 42):\n",
    "        return 4\n",
    "    elif(valeur < 63 and valeur > 37):\n",
    "        return 3\n",
    "    elif(valeur < 70 and valeur > 30):\n",
    "        return 2\n",
    "    elif(valeur < 80 and valeur > 20):\n",
    "        return 1\n",
    "    else:\n",
    "        return 0\n",
    "\n",
    "# Annotation d'une situation globale pour un capteur, en regroupant les valeurs trouvées durant des périodes de deux minutes, pour les différentes mesures.\n",
    "def annotationCapteur(valeurTemperature, valeurLuminosite, valeurCo2, valeurHumidite):\n",
    "    annotationRetour = 0\n",
    "    # Définition de poids, selon l'importance d'un critère pour l'humain\n",
    "    # Poids définis ici après un vote entre les membres du groupe\n",
    "    poidsTemperature = 0.3\n",
    "    poidsLuminosite = 0.2\n",
    "    poidsCo2 = 0.4\n",
    "    poidsHumidite = 0.1\n",
    "    annotationRetour += poidsTemperature * temperature(valeurTemperature)\n",
    "    annotationRetour += poidsLuminosite * luminosite(valeurLuminosite)\n",
    "    annotationRetour += poidsCo2 * co2(valeurCo2)\n",
    "    annotationRetour += poidsHumidite * humidite(valeurHumidite)\n",
    "\n",
    "    return str(annotationRetour);\n"
   ]
  },
  {
   "cell_type": "markdown",
   "metadata": {},
   "source": [
    "# VALEUR DE CONFORT PREDICTED !!"
   ]
  },
  {
   "cell_type": "code",
   "execution_count": 40,
   "metadata": {},
   "outputs": [
    {
     "data": {
      "text/plain": [
       "'3.4'"
      ]
     },
     "execution_count": 40,
     "metadata": {},
     "output_type": "execute_result"
    }
   ],
   "source": [
    "annotationCapteur(\n",
    "    Y_test_pred2.mean() * 28.64 + 11.36, Y_test_pred3.mean() * 1000 + 0, \n",
    "    Y_test_pred1.mean() * 1906 + 84, Y_test_pred4.mean() * 45 + 30)"
   ]
  },
  {
   "cell_type": "raw",
   "metadata": {},
   "source": []
  }
 ],
 "metadata": {
  "kernelspec": {
   "display_name": "Python 3",
   "language": "python",
   "name": "python3"
  },
  "language_info": {
   "codemirror_mode": {
    "name": "ipython",
    "version": 2
   },
   "file_extension": ".py",
   "mimetype": "text/x-python",
   "name": "python",
   "nbconvert_exporter": "python",
   "pygments_lexer": "ipython2",
   "version": "2.7.15rc1"
  }
 },
 "nbformat": 4,
 "nbformat_minor": 2
}

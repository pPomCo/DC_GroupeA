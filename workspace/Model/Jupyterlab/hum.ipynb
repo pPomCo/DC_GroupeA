{
 "cells": [
  {
   "cell_type": "markdown",
   "metadata": {},
   "source": [
    "# Import"
   ]
  },
  {
   "cell_type": "code",
   "execution_count": 1,
   "metadata": {},
   "outputs": [
    {
     "name": "stderr",
     "output_type": "stream",
     "text": [
      "Using TensorFlow backend.\n"
     ]
    }
   ],
   "source": [
    "import keras.layers as kl\n",
    "import keras.backend as K\n",
    "import keras.callbacks as kc\n",
    "from keras.models import Sequential, load_model, Model\n",
    "\n",
    "import numpy as np\n",
    "import pandas as pd\n",
    "import matplotlib.pyplot as plt\n",
    "import sklearn.metrics\n",
    "import tqdm # progress bar\n",
    "\n",
    "import os\n",
    "import tensorflow as tf"
   ]
  },
  {
   "cell_type": "markdown",
   "metadata": {},
   "source": [
    "# Load data"
   ]
  },
  {
   "cell_type": "markdown",
   "metadata": {},
   "source": [
    "```\n",
    "data_root = os.path.join(\".\",\"Formatage\", \"parts\")\n",
    "\n",
    "# load ilot1_lum\n",
    "with open(os.path.join(data_root, \"ilot1.lum.csv\"), \"r\") as f:\n",
    "    data = f.read().splitlines()\n",
    "data = [d.split(\";\") for d in data]\n",
    "```"
   ]
  },
  {
   "cell_type": "code",
   "execution_count": 3,
   "metadata": {},
   "outputs": [
    {
     "data": {
      "text/html": [
       "<div>\n",
       "<style scoped>\n",
       "    .dataframe tbody tr th:only-of-type {\n",
       "        vertical-align: middle;\n",
       "    }\n",
       "\n",
       "    .dataframe tbody tr th {\n",
       "        vertical-align: top;\n",
       "    }\n",
       "\n",
       "    .dataframe thead th {\n",
       "        text-align: right;\n",
       "    }\n",
       "</style>\n",
       "<table border=\"1\" class=\"dataframe\">\n",
       "  <thead>\n",
       "    <tr style=\"text-align: right;\">\n",
       "      <th></th>\n",
       "      <th>ilot</th>\n",
       "      <th>type</th>\n",
       "      <th>timestamp</th>\n",
       "      <th>value</th>\n",
       "    </tr>\n",
       "  </thead>\n",
       "  <tbody>\n",
       "    <tr>\n",
       "      <th>0</th>\n",
       "      <td>ilot1</td>\n",
       "      <td>hum</td>\n",
       "      <td>1505127245</td>\n",
       "      <td>42</td>\n",
       "    </tr>\n",
       "    <tr>\n",
       "      <th>1</th>\n",
       "      <td>ilot1</td>\n",
       "      <td>hum</td>\n",
       "      <td>1505127305</td>\n",
       "      <td>42</td>\n",
       "    </tr>\n",
       "    <tr>\n",
       "      <th>2</th>\n",
       "      <td>ilot1</td>\n",
       "      <td>hum</td>\n",
       "      <td>1505127365</td>\n",
       "      <td>42</td>\n",
       "    </tr>\n",
       "    <tr>\n",
       "      <th>3</th>\n",
       "      <td>ilot1</td>\n",
       "      <td>hum</td>\n",
       "      <td>1505127425</td>\n",
       "      <td>43</td>\n",
       "    </tr>\n",
       "    <tr>\n",
       "      <th>4</th>\n",
       "      <td>ilot1</td>\n",
       "      <td>hum</td>\n",
       "      <td>1505127485</td>\n",
       "      <td>42</td>\n",
       "    </tr>\n",
       "  </tbody>\n",
       "</table>\n",
       "</div>"
      ],
      "text/plain": [
       "    ilot type   timestamp  value\n",
       "0  ilot1  hum  1505127245     42\n",
       "1  ilot1  hum  1505127305     42\n",
       "2  ilot1  hum  1505127365     42\n",
       "3  ilot1  hum  1505127425     43\n",
       "4  ilot1  hum  1505127485     42"
      ]
     },
     "execution_count": 3,
     "metadata": {},
     "output_type": "execute_result"
    }
   ],
   "source": [
    "file_name = \"ilot1.hum.csv\"\n",
    "\n",
    "# to get inputs whatever the OS\n",
    "data_root = os.path.join(\".\", \"Formatage\", \"parts\")\n",
    "data = pd.read_csv(os.path.join(data_root, file_name), sep= \";\")\n",
    "\n",
    "data.head()"
   ]
  },
  {
   "cell_type": "markdown",
   "metadata": {},
   "source": [
    "# Prepare data"
   ]
  },
  {
   "cell_type": "code",
   "execution_count": 4,
   "metadata": {},
   "outputs": [],
   "source": [
    "serie_length = 10 # nbr of data taken for training set\n",
    "to_predict = 1 # how far to predict (nbr of serie_length far)\n",
    "# rq : the further we try to predict, the inaccurate results are, obviously true\n",
    "\n",
    "values = data[\"value\"].values"
   ]
  },
  {
   "cell_type": "code",
   "execution_count": 26,
   "metadata": {},
   "outputs": [
    {
     "data": {
      "text/plain": [
       "(30, 75)"
      ]
     },
     "execution_count": 26,
     "metadata": {},
     "output_type": "execute_result"
    }
   ],
   "source": [
    "# remove beginning\n",
    "nb_todelete = len(values) % serie_length\n",
    "values = values[nb_todelete:]\n",
    "\n",
    "# create X and Y\n",
    "X, Y = [], []\n",
    "for i in range(0, len(values) - (serie_length * to_predict), serie_length):\n",
    "    window = values[i : i + serie_length]\n",
    "    next_window = values[i + serie_length * to_predict : i + serie_length * (to_predict + 1)]\n",
    "    \n",
    "    X.append(window)\n",
    "    Y.append(next_window.mean())\n",
    "\n",
    "X = np.array(X)\n",
    "Y = np.array(Y)\n",
    "# X.shape, Y.shape"
   ]
  },
  {
   "cell_type": "code",
   "execution_count": 25,
   "metadata": {},
   "outputs": [],
   "source": [
    "# Normalisation entre min et max vers des valeurs de 0 à 1\n",
    "X = np.interp(X, (X.min(), X.max()), (0, 1))\n",
    "Y = np.interp(Y, (Y.min(), Y.max()), (0, 1))\n"
   ]
  },
  {
   "cell_type": "code",
   "execution_count": 7,
   "metadata": {},
   "outputs": [],
   "source": [
    "# split between training and validation\n",
    "ratio = 0.8\n",
    "split_index = int(len(X) * ratio)\n",
    "\n",
    "X_train, X_test = X[:split_index], X[split_index:]\n",
    "Y_train, Y_test = Y[:split_index], Y[split_index:]\n",
    "\n",
    "# cause LSTM wants 3d vectors\n",
    "X_train = np.expand_dims(X_train, axis=-1)\n",
    "X_test = np.expand_dims(X_test, axis=-1)\n",
    "\n",
    "# X_train.shape, X_test.shape, Y_train.shape, Y_test.shape"
   ]
  },
  {
   "cell_type": "markdown",
   "metadata": {},
   "source": [
    "# Training"
   ]
  },
  {
   "cell_type": "code",
   "execution_count": 8,
   "metadata": {},
   "outputs": [
    {
     "name": "stdout",
     "output_type": "stream",
     "text": [
      "WARNING:tensorflow:From /home/zathuw/.local/lib/python2.7/site-packages/tensorflow/python/framework/op_def_library.py:263: colocate_with (from tensorflow.python.framework.ops) is deprecated and will be removed in a future version.\n",
      "Instructions for updating:\n",
      "Colocations handled automatically by placer.\n",
      "_________________________________________________________________\n",
      "Layer (type)                 Output Shape              Param #   \n",
      "=================================================================\n",
      "input_1 (InputLayer)         (None, 10, 1)             0         \n",
      "_________________________________________________________________\n",
      "lstm_1 (LSTM)                (None, 64)                16896     \n",
      "_________________________________________________________________\n",
      "dense_1 (Dense)              (None, 16)                1040      \n",
      "_________________________________________________________________\n",
      "dense_2 (Dense)              (None, 1)                 17        \n",
      "=================================================================\n",
      "Total params: 17,953\n",
      "Trainable params: 17,953\n",
      "Non-trainable params: 0\n",
      "_________________________________________________________________\n"
     ]
    }
   ],
   "source": [
    "K.clear_session()\n",
    "model_name = \"models/model_\" + file_name[:-4] + \"_\" + str(serie_length) + \"_\" + str(to_predict) + \".h5\"\n",
    "\n",
    "# Sequential way to define model\n",
    "# model = Sequential()\n",
    "# model.add(kl.Input(X_train[0].shape))\n",
    "# model.add(kl.LSTM(16))\n",
    "# model.add(kl.Dense(1, activation=\"sigmoid\"))\n",
    "# model.compile(loss = 'mse', optimizer = 'adam')\n",
    "# model.summary()\n",
    "\n",
    "# Recusive way to define model\n",
    "inp = kl.Input(X_train[0].shape)\n",
    "rnn = kl.LSTM(64)(inp)\n",
    "#rnn = kl.CuDNNGRU(64)(inp)\n",
    "\n",
    "dense = kl.Dense(16, activation = \"relu\")(rnn)\n",
    "dense = kl.Dense(1, activation = \"sigmoid\")(dense)\n",
    "\n",
    "model = Model(inputs = [inp], outputs = [dense])\n",
    "model.summary()"
   ]
  },
  {
   "cell_type": "code",
   "execution_count": 9,
   "metadata": {},
   "outputs": [],
   "source": [
    "model.compile(loss=\"mse\", optimizer=\"adam\")"
   ]
  },
  {
   "cell_type": "code",
   "execution_count": 10,
   "metadata": {},
   "outputs": [],
   "source": [
    "# permet d'arrêter le training avant la fin si rien n'est améliorer en 10 epochs\n",
    "early_stop = kc.EarlyStopping(monitor='val_loss', patience=10, verbose=1, mode='min')\n",
    "# enregistre le modèle si le val_loss est meilleur que l'actuel meilleur modèle\n",
    "checkpoint = kc.ModelCheckpoint(model_name, monitor='val_loss', verbose=1, save_best_only=True, mode='min')\n",
    "# permet de revenir en arrière si rencontre avec un min local en reduisant le LR\n",
    "reduce_lr = kc.ReduceLROnPlateau(monitor='val_loss', factor=0.25, patience=25, verbose=1, mode='min', min_lr=1e-6)\n",
    "\n",
    "callbacks = [early_stop, checkpoint, reduce_lr]\n"
   ]
  },
  {
   "cell_type": "code",
   "execution_count": 11,
   "metadata": {},
   "outputs": [
    {
     "name": "stdout",
     "output_type": "stream",
     "text": [
      "WARNING:tensorflow:From /home/zathuw/.local/lib/python2.7/site-packages/tensorflow/python/ops/math_ops.py:3066: to_int32 (from tensorflow.python.ops.math_ops) is deprecated and will be removed in a future version.\n",
      "Instructions for updating:\n",
      "Use tf.cast instead.\n",
      "Train on 33998 samples, validate on 8500 samples\n",
      "Epoch 1/10\n",
      "33998/33998 [==============================] - 15s 432us/step - loss: 0.0022 - val_loss: 1.1589e-04\n",
      "\n",
      "Epoch 00001: val_loss improved from inf to 0.00012, saving model to models/model_ilot1.hum_10_1.h5\n",
      "Epoch 2/10\n",
      "33998/33998 [==============================] - 14s 420us/step - loss: 1.0465e-04 - val_loss: 6.6328e-05\n",
      "\n",
      "Epoch 00002: val_loss improved from 0.00012 to 0.00007, saving model to models/model_ilot1.hum_10_1.h5\n",
      "Epoch 3/10\n",
      "33998/33998 [==============================] - 19s 551us/step - loss: 9.9086e-05 - val_loss: 2.2311e-04\n",
      "\n",
      "Epoch 00003: val_loss did not improve from 0.00007\n",
      "Epoch 4/10\n",
      "33998/33998 [==============================] - 18s 524us/step - loss: 9.0689e-05 - val_loss: 6.4345e-05\n",
      "\n",
      "Epoch 00004: val_loss improved from 0.00007 to 0.00006, saving model to models/model_ilot1.hum_10_1.h5\n",
      "Epoch 5/10\n",
      "33998/33998 [==============================] - 17s 486us/step - loss: 8.7372e-05 - val_loss: 7.1159e-05\n",
      "\n",
      "Epoch 00005: val_loss did not improve from 0.00006\n",
      "Epoch 6/10\n",
      "33998/33998 [==============================] - 16s 481us/step - loss: 8.3697e-05 - val_loss: 1.1265e-04\n",
      "\n",
      "Epoch 00006: val_loss did not improve from 0.00006\n",
      "Epoch 7/10\n",
      "33998/33998 [==============================] - 17s 489us/step - loss: 8.0759e-05 - val_loss: 5.3684e-05\n",
      "\n",
      "Epoch 00007: val_loss improved from 0.00006 to 0.00005, saving model to models/model_ilot1.hum_10_1.h5\n",
      "Epoch 8/10\n",
      "33998/33998 [==============================] - 17s 497us/step - loss: 7.4809e-05 - val_loss: 1.1031e-04\n",
      "\n",
      "Epoch 00008: val_loss did not improve from 0.00005\n",
      "Epoch 9/10\n",
      "33998/33998 [==============================] - 17s 492us/step - loss: 7.2371e-05 - val_loss: 7.0876e-05\n",
      "\n",
      "Epoch 00009: val_loss did not improve from 0.00005\n",
      "Epoch 10/10\n",
      "33998/33998 [==============================] - 17s 507us/step - loss: 7.2757e-05 - val_loss: 5.1384e-05\n",
      "\n",
      "Epoch 00010: val_loss improved from 0.00005 to 0.00005, saving model to models/model_ilot1.hum_10_1.h5\n"
     ]
    }
   ],
   "source": [
    "history = model.fit(\n",
    "    X_train, Y_train,\n",
    "    validation_data = (X_test, Y_test),\n",
    "    epochs = 10,\n",
    "    batch_size = 32,\n",
    "    callbacks = callbacks\n",
    ")"
   ]
  },
  {
   "cell_type": "code",
   "execution_count": 12,
   "metadata": {},
   "outputs": [],
   "source": [
    "model = load_model(model_name)"
   ]
  },
  {
   "cell_type": "code",
   "execution_count": 13,
   "metadata": {},
   "outputs": [],
   "source": [
    "Y_test_pred = model.predict(X_test)"
   ]
  },
  {
   "cell_type": "markdown",
   "metadata": {},
   "source": [
    "# Data Representation"
   ]
  },
  {
   "cell_type": "code",
   "execution_count": 20,
   "metadata": {},
   "outputs": [
    {
     "data": {
      "image/png": "[encoded data removed]",
      "text/plain": [
       "<Figure size 1440x432 with 1 Axes>"
      ]
     },
     "metadata": {
      "needs_background": "light"
     },
     "output_type": "display_data"
    }
   ],
   "source": [
    "plt.figure(0, figsize = (20, 6))\n",
    "\n",
    "plt.hist(Y_test, bins = 20) # blue : actual data\n",
    "plt.hist(Y_test_pred, bins = 20) # orange : predicted data\n",
    "plt.show()"
   ]
  },
  {
   "cell_type": "code",
   "execution_count": 21,
   "metadata": {},
   "outputs": [
    {
     "data": {
      "image/png": "[encoded data removed]",
      "text/plain": [
       "<Figure size 1440x432 with 1 Axes>"
      ]
     },
     "metadata": {
      "needs_background": "light"
     },
     "output_type": "display_data"
    }
   ],
   "source": [
    "plt.figure(0, figsize=(20, 6))\n",
    "plt.plot(sorted(Y_test))\n",
    "plt.plot(sorted(Y_test_pred))\n",
    "\n",
    "plt.show()"
   ]
  },
  {
   "cell_type": "code",
   "execution_count": 22,
   "metadata": {},
   "outputs": [
    {
     "data": {
      "text/plain": [
       "0.0051"
      ]
     },
     "execution_count": 22,
     "metadata": {},
     "output_type": "execute_result"
    }
   ],
   "source": [
    "error_is = 100 * sklearn.metrics.mean_squared_error(Y_test, Y_test_pred)\n",
    "error_is.round(4)"
   ]
  }
 ],
 "metadata": {
  "kernelspec": {
   "display_name": "Python 3",
   "language": "python",
   "name": "python3"
  },
  "language_info": {
   "codemirror_mode": {
    "name": "ipython",
    "version": 2
   },
   "file_extension": ".py",
   "mimetype": "text/x-python",
   "name": "python",
   "nbconvert_exporter": "python",
   "pygments_lexer": "ipython2",
   "version": "2.7.15rc1"
  }
 },
 "nbformat": 4,
 "nbformat_minor": 2
}

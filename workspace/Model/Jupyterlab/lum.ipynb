{
 "cells": [
  {
   "cell_type": "markdown",
   "metadata": {},
   "source": [
    "# Import"
   ]
  },
  {
   "cell_type": "code",
   "execution_count": null,
   "metadata": {},
   "outputs": [],
   "source": [
    "import keras.layers as kl\n",
    "import keras.backend as K\n",
    "import keras.callbacks as kc\n",
    "from keras.models import Sequential, load_model, Model\n",
    "\n",
    "import numpy as np\n",
    "import pandas as pd\n",
    "import matplotlib.pyplot as plt\n",
    "import sklearn.metrics\n",
    "import tqdm # progress bar\n",
    "\n",
    "import os\n",
    "import tensorflow as tf"
   ]
  },
  {
   "cell_type": "markdown",
   "metadata": {},
   "source": [
    "# Load data"
   ]
  },
  {
   "cell_type": "markdown",
   "metadata": {},
   "source": [
    "```\n",
    "data_root = os.path.join(\".\",\"Formatage\", \"parts\")\n",
    "\n",
    "# load ilot1_lum\n",
    "with open(os.path.join(data_root, \"ilot1.lum.csv\"), \"r\") as f:\n",
    "    data = f.read().splitlines()\n",
    "data = [d.split(\";\") for d in data]\n",
    "```"
   ]
  },
  {
   "cell_type": "code",
   "execution_count": null,
   "metadata": {},
   "outputs": [],
   "source": [
    "file_name = \"ilot1.lum.csv\"\n",
    "\n",
    "# to get inputs whatever the OS\n",
    "data_root = os.path.join(\".\", \"Formatage\", \"parts\")\n",
    "data = pd.read_csv(os.path.join(data_root, file_name), sep= \";\")\n",
    "\n",
    "data.head()"
   ]
  },
  {
   "cell_type": "markdown",
   "metadata": {},
   "source": [
    "# Prepare data"
   ]
  },
  {
   "cell_type": "code",
   "execution_count": 89,
   "metadata": {},
   "outputs": [],
   "source": [
    "serie_length = 30 # nbr of data taken for training set\n",
    "to_predict = 1 # how far to predict (nbr of serie_length far)\n",
    "# rq : the further we try to predict, the inaccurate results are, obviously true\n",
    "\n",
    "values = data[\"value\"].values"
   ]
  },
  {
   "cell_type": "code",
   "execution_count": 93,
   "metadata": {},
   "outputs": [],
   "source": [
    "# remove beginning\n",
    "nb_todelete = len(values) % serie_length\n",
    "values = values[nb_todelete:]\n",
    "\n",
    "# create X and Y\n",
    "X, Y = [], []\n",
    "for i in range(0, len(values) - (serie_length * to_predict), serie_length):\n",
    "    window = values[i : i + serie_length]\n",
    "    next_window = values[i + serie_length * to_predict : i + serie_length * (to_predict + 1)]\n",
    "    \n",
    "    X.append(window)\n",
    "    Y.append(next_window.mean())\n",
    "\n",
    "X = np.array(X)\n",
    "Y = np.array(Y)\n",
    "# X.shape, Y.shape"
   ]
  },
  {
   "cell_type": "code",
   "execution_count": 94,
   "metadata": {},
   "outputs": [],
   "source": [
    "# Normalisation entre min et max vers des valeurs de 0 à 1\n",
    "X = np.interp(X, (X.min(), X.max()), (0, 1))\n",
    "Y = np.interp(Y, (Y.min(), Y.max()), (0, 1))"
   ]
  },
  {
   "cell_type": "code",
   "execution_count": 95,
   "metadata": {},
   "outputs": [],
   "source": [
    "# split between training and validation\n",
    "ratio = 0.8\n",
    "split_index = int(len(X) * ratio)\n",
    "\n",
    "X_train, X_test = X[:split_index], X[split_index:]\n",
    "Y_train, Y_test = Y[:split_index], Y[split_index:]\n",
    "\n",
    "# cause LSTM wants 3d vectors\n",
    "X_train = np.expand_dims(X_train, axis=-1)\n",
    "X_test = np.expand_dims(X_test, axis=-1)\n",
    "\n",
    "# X_train.shape, X_test.shape, Y_train.shape, Y_test.shape"
   ]
  },
  {
   "cell_type": "markdown",
   "metadata": {},
   "source": [
    "# Training"
   ]
  },
  {
   "cell_type": "code",
   "execution_count": 101,
   "metadata": {},
   "outputs": [
    {
     "name": "stdout",
     "output_type": "stream",
     "text": [
      "_________________________________________________________________\n",
      "Layer (type)                 Output Shape              Param #   \n",
      "=================================================================\n",
      "input_1 (InputLayer)         (None, 30, 1)             0         \n",
      "_________________________________________________________________\n",
      "lstm_1 (LSTM)                (None, 64)                16896     \n",
      "_________________________________________________________________\n",
      "dense_1 (Dense)              (None, 16)                1040      \n",
      "_________________________________________________________________\n",
      "dense_2 (Dense)              (None, 1)                 17        \n",
      "=================================================================\n",
      "Total params: 17,953\n",
      "Trainable params: 17,953\n",
      "Non-trainable params: 0\n",
      "_________________________________________________________________\n"
     ]
    },
    {
     "data": {
      "text/plain": [
       "'models/model_ilot1.lum_30_1.h5'"
      ]
     },
     "execution_count": 101,
     "metadata": {},
     "output_type": "execute_result"
    }
   ],
   "source": [
    "K.clear_session()\n",
    "model_name = \"models/model_\" + file_name[:-4] + \"_\" + str(serie_length) + \"_\" + str(to_predict) + \".h5\"\n",
    "\n",
    "# Sequential way to define model\n",
    "# model = Sequential()\n",
    "# model.add(kl.Input(X_train[0].shape))\n",
    "# model.add(kl.LSTM(16))\n",
    "# model.add(kl.Dense(1, activation=\"sigmoid\"))\n",
    "# model.compile(loss = 'mse', optimizer = 'adam')\n",
    "# model.summary()\n",
    "\n",
    "# Recusive way to define model\n",
    "inp = kl.Input(X_train[0].shape)\n",
    "rnn = kl.LSTM(64)(inp)\n",
    "#rnn = kl.CuDNNGRU(64)(inp)\n",
    "\n",
    "dense = kl.Dense(16, activation = \"relu\")(rnn)\n",
    "dense = kl.Dense(1, activation = \"sigmoid\")(dense)\n",
    "\n",
    "model = Model(inputs = [inp], outputs = [dense])\n",
    "model.summary()"
   ]
  },
  {
   "cell_type": "code",
   "execution_count": null,
   "metadata": {},
   "outputs": [],
   "source": [
    "model.compile(loss = \"mse\", optimizer = \"adam\")"
   ]
  },
  {
   "cell_type": "code",
   "execution_count": null,
   "metadata": {},
   "outputs": [],
   "source": [
    "# permet d'arrêter le training avant la fin si rien n'est améliorer en 10 epochs\n",
    "early_stop = kc.EarlyStopping(monitor='val_loss', patience=10, verbose=1, mode='min')\n",
    "# enregistre le modèle si le val_loss est meilleur que l'actuel meilleur modèle\n",
    "checkpoint = kc.ModelCheckpoint(model_name, monitor='val_loss', verbose=1, save_best_only=True, mode='min')\n",
    "# permet de revenir en arrière si rencontre avec un min local en reduisant le LR\n",
    "reduce_lr = kc.ReduceLROnPlateau(monitor='val_loss', factor=0.25, patience=25, verbose=1, mode='min', min_lr=1e-6)\n",
    "\n",
    "callbacks = [early_stop, checkpoint, reduce_lr]\n"
   ]
  },
  {
   "cell_type": "code",
   "execution_count": null,
   "metadata": {},
   "outputs": [],
   "source": [
    "history = model.fit(\n",
    "    X_train, Y_train,\n",
    "    validation_data = (X_test, Y_test),\n",
    "    epochs = 10,\n",
    "    batch_size = 32,\n",
    "    callbacks = callbacks\n",
    ")"
   ]
  },
  {
   "cell_type": "code",
   "execution_count": null,
   "metadata": {},
   "outputs": [],
   "source": [
    "model = load_model(model_name)"
   ]
  },
  {
   "cell_type": "code",
   "execution_count": null,
   "metadata": {},
   "outputs": [],
   "source": [
    "Y_test_pred = model.predict(X_test)"
   ]
  },
  {
   "cell_type": "markdown",
   "metadata": {},
   "source": [
    "# Data Representation"
   ]
  },
  {
   "cell_type": "code",
   "execution_count": 104,
   "metadata": {},
   "outputs": [
    {
     "data": {
      "image/png": "[encoded data removed]",
      "text/plain": [
       "<Figure size 1440x432 with 1 Axes>"
      ]
     },
     "metadata": {
      "needs_background": "light"
     },
     "output_type": "display_data"
    }
   ],
   "source": [
    "plt.figure(0, figsize = (20, 6))\n",
    "\n",
    "plt.hist(Y_test, bins = 20) # blue : actual data\n",
    "plt.hist(Y_test_pred, bins = 20) # orange : predicted data\n",
    "plt.show()"
   ]
  },
  {
   "cell_type": "code",
   "execution_count": 105,
   "metadata": {},
   "outputs": [
    {
     "data": {
      "image/png": "[encoded data removed]",
      "text/plain": [
       "<Figure size 1440x432 with 1 Axes>"
      ]
     },
     "metadata": {
      "needs_background": "light"
     },
     "output_type": "display_data"
    }
   ],
   "source": [
    "plt.figure(0, figsize = (20, 6))\n",
    "plt.plot(sorted(Y_test))\n",
    "plt.plot(sorted(Y_test_pred))\n",
    "\n",
    "plt.show()"
   ]
  },
  {
   "cell_type": "code",
   "execution_count": 103,
   "metadata": {},
   "outputs": [
    {
     "data": {
      "text/plain": [
       "0.2802"
      ]
     },
     "execution_count": 103,
     "metadata": {},
     "output_type": "execute_result"
    }
   ],
   "source": [
    "error_is = 100 * sklearn.metrics.mean_squared_error(Y_test, Y_test_pred)\n",
    "error_is.round(4)"
   ]
  },
  {
   "cell_type": "code",
   "execution_count": null,
   "metadata": {},
   "outputs": [],
   "source": []
  }
 ],
 "metadata": {
  "kernelspec": {
   "display_name": "Python 3",
   "language": "python",
   "name": "python3"
  },
  "language_info": {
   "codemirror_mode": {
    "name": "ipython",
    "version": 2
   },
   "file_extension": ".py",
   "mimetype": "text/x-python",
   "name": "python",
   "nbconvert_exporter": "python",
   "pygments_lexer": "ipython2",
   "version": "2.7.15rc1"
  }
 },
 "nbformat": 4,
 "nbformat_minor": 2
}
